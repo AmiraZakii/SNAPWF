{
 "cells": [
  {
   "cell_type": "code",
   "execution_count": null,
   "id": "461d3104-1199-492d-bc85-1dc0e702f575",
   "metadata": {},
   "outputs": [],
   "source": []
  },
  {
   "cell_type": "code",
   "execution_count": 1,
   "id": "97ea7266-9e29-4c34-90c6-990c37b7fef2",
   "metadata": {},
   "outputs": [
    {
     "name": "stdout",
     "output_type": "stream",
     "text": [
      "S1A_IW_SLC__1SDV_20190626T155602_20190626T155630_027852_032500_0D6A-SLC\n",
      "S1A_IW_SLC__1SDV_20190626T155602_20190626T155630_027852_032500_0D6A-METADATA_SLC\n"
     ]
    }
   ],
   "source": [
    "\"\"\"\n",
    "Run the workflow to get the interferogram and coherence\n",
    "for the Sentinel-1 data for further processing with \n",
    "SNAP to generate INTERFEROMETRIC stacks for STAMPS \n",
    "processing.\n",
    "\"\"\"\n",
    "\n",
    "#%% Import the necessary packages\n",
    "import asf_search as asf\n",
    "import numpy as np\n",
    "import shapely\n",
    "import matplotlib.pyplot as plt\n",
    "from copy import deepcopy\n",
    "from os.path import exists\n",
    "from os import mkdir\n",
    "\n",
    "# USe the super master scene thta is just in the middle of the temporal baseline\n",
    "granule = ['S1A_IW_SLC__1SDV_20190626T155602_20190626T155630_027852_032500_0D6A']\n",
    "results = asf.granule_search(granule)\n",
    "\n",
    "for i in np.arange(len(results)):\n",
    "    print(results[i].properties['fileID'])\n",
    "\n",
    "reference = results[0]\n",
    "stack_org = reference.stack()"
   ]
  },
  {
   "cell_type": "code",
   "execution_count": 2,
   "id": "3e44f0c1-ca46-4725-ba6a-135216c661f6",
   "metadata": {},
   "outputs": [
    {
     "name": "stdout",
     "output_type": "stream",
     "text": [
      "S1A_IW_SLC__1SDV_20230617T155626_20230617T155654_049027_05E556_B5CF-SLC 1452 None\n",
      "S1A_IW_SLC__1SDV_20230629T155626_20230629T155654_049202_05EAA3_0CBB-SLC 1464 None\n",
      "S1A_IW_SLC__1SDV_20230711T155627_20230711T155655_049377_05F012_5F06-SLC 1476 None\n",
      "S1A_IW_SLC__1SDV_20230723T155628_20230723T155656_049552_05F565_C6E1-SLC 1488 None\n",
      "S1A_IW_SLC__1SDV_20230804T155629_20230804T155657_049727_05FACC_DF36-SLC 1500 None\n",
      "S1A_IW_SLC__1SDV_20230816T155629_20230816T155657_049902_0600AC_191D-SLC 1512 None\n",
      "S1A_IW_SLC__1SDV_20230828T155630_20230828T155658_050077_0606A8_5873-SLC 1524 None\n",
      "S1A_IW_SLC__1SDV_20230909T155630_20230909T155658_050252_060C9B_3AAE-SLC 1536 None\n",
      "S1A_IW_SLC__1SDV_20230921T155631_20230921T155659_050427_06128D_1F35-SLC 1548 None\n",
      "S1A_IW_SLC__1SDV_20231003T155631_20231003T155659_050602_061896_5AAC-SLC 1560 None\n",
      "S1A_IW_SLC__1SDV_20231015T155631_20231015T155659_050777_061E99_DD47-SLC 1572 None\n",
      "S1A_IW_SLC__1SDV_20231027T155631_20231027T155659_050952_062485_9AF9-SLC 1584 None\n",
      "S1A_IW_SLC__1SDV_20231108T155630_20231108T155658_051127_062A8D_A67C-SLC 1596 None\n",
      "S1A_IW_SLC__1SDV_20231120T155630_20231120T155658_051302_06309C_7579-SLC 1608 None\n",
      "S1A_IW_SLC__1SDV_20231202T155630_20231202T155658_051477_063696_74F7-SLC 1620 None\n",
      "S1A_IW_SLC__1SDV_20231214T155629_20231214T155657_051652_063CBA_470C-SLC 1632 None\n",
      "S1A_IW_SLC__1SDV_20231226T155628_20231226T155656_051827_0642C3_16B6-SLC 1644 None\n"
     ]
    }
   ],
   "source": [
    "#%% Make a deep copy of the stack\n",
    "stack = deepcopy(stack_org)\n",
    "\n",
    "#Loop over stack and remove the None perpendicular or temporal baselines\n",
    "# and the element of the super master scene with itself where the perpendicular\n",
    "# and temporal baselines are zeros\n",
    "\n",
    "frames_nan = []\n",
    "for i in stack:\n",
    "    pp_bl = i.properties['perpendicularBaseline']\n",
    "    tm_pl = i.properties['temporalBaseline']\n",
    "    if pp_bl == None or tm_pl == None:\n",
    "        print(i.properties['fileID'], i.properties['temporalBaseline'], \n",
    "              i.properties['perpendicularBaseline'])\n",
    "        frames_nan.append(i)\n",
    "    # I will comment this part as I will not remove the super master scene\n",
    "    # if pp_bl == 0 and tm_pl == 0:\n",
    "    #     print(i.properties['fileID'], i.properties['temporalBaseline'], \n",
    "    #           i.properties['perpendicularBaseline'])\n",
    "    #     frames_nan.append(i)\n",
    "\n",
    "#Remove the scenes with None/zeros perpendicular or/and temporal baselines\n",
    "for i in frames_nan:\n",
    "    stack.remove(i)"
   ]
  },
  {
   "cell_type": "code",
   "execution_count": 3,
   "id": "705ab409-7d05-442b-846a-5e140c1a8230",
   "metadata": {},
   "outputs": [
    {
     "name": "stdout",
     "output_type": "stream",
     "text": [
      "S1A_IW_SLC__1SSV_20141014T155550_20141014T155617_002827_003301_0C9E-SLC 1176 130\n",
      "S1A_IW_SLC__1SSV_20141014T155525_20141014T155552_002827_003301_78B8-SLC 1171 130\n",
      "S1A_IW_SLC__1SSV_20141107T155550_20141107T155617_003177_003A87_B237-SLC 1176 130\n",
      "S1A_IW_SLC__1SSV_20141107T155525_20141107T155552_003177_003A87_7A52-SLC 1171 130\n",
      "S1A_IW_SLC__1SSV_20141201T155549_20141201T155616_003527_004265_4CA3-SLC 1176 130\n",
      "S1A_IW_SLC__1SSV_20141201T155524_20141201T155551_003527_004265_C8E5-SLC 1171 130\n",
      "S1A_IW_SLC__1SDV_20141225T155540_20141225T155608_003877_004A5A_1580-SLC 1174 130\n",
      "S1A_IW_SLC__1SSV_20150118T155548_20150118T155615_004227_00523B_7C6D-SLC 1176 130\n",
      "S1A_IW_SLC__1SSV_20150118T155523_20150118T155550_004227_00523B_B169-SLC 1171 130\n",
      "S1A_IW_SLC__1SSV_20150211T155547_20150211T155614_004577_005A1C_74E5-SLC 1176 130\n",
      "S1A_IW_SLC__1SSV_20150211T155522_20150211T155549_004577_005A1C_4FE5-SLC 1171 130\n",
      "S1A_IW_SLC__1SSV_20150307T155547_20150307T155614_004927_006278_EDDB-SLC 1175 130\n",
      "S1A_IW_SLC__1SSV_20150307T155522_20150307T155549_004927_006278_22CF-SLC 1170 130\n",
      "S1A_IW_SLC__1SSV_20150331T155539_20150331T155606_005277_006AC7_3F1D-SLC 1174 130\n",
      "S1A_IW_SLC__1SSV_20150518T155542_20150518T155609_005977_007B4E_1B4B-SLC 1174 130\n",
      "S1A_IW_SLC__1SSV_20150611T155543_20150611T155610_006327_00850F_919E-SLC 1174 130\n",
      "S1A_IW_SLC__1SSV_20150705T155544_20150705T155611_006677_008EC4_D5FE-SLC 1174 130\n",
      "S1A_IW_SLC__1SSV_20150729T155545_20150729T155612_007027_0098C4_741D-SLC 1174 130\n",
      "S1A_IW_SLC__1SSV_20150822T155547_20150822T155614_007377_00A246_E5C4-SLC 1174 130\n",
      "S1A_IW_SLC__1SDV_20150915T155547_20150915T155614_007727_00ABC1_6EFA-SLC 1174 130\n",
      "S1A_IW_SLC__1SSV_20151009T155548_20151009T155615_008077_00B51D_4CF1-SLC 1174 130\n",
      "S1A_IW_SLC__1SSV_20151102T155548_20151102T155615_008427_00BE89_C51A-SLC 1174 130\n",
      "S1A_IW_SLC__1SDV_20190427T155606_20190427T155633_026977_03096C_11CB-SLC 1174 130\n"
     ]
    }
   ],
   "source": [
    "#%% Remove the frames that does not have a a specific frame number or relative \n",
    "# orbit number to keep only the frames that have the same frame number and \n",
    "# relative orbit number\n",
    "frame = 1173\n",
    "rel_orb = 130\n",
    "frames_out = []\n",
    "for i in stack:\n",
    "    fr = i.properties['frameNumber']\n",
    "    rel = i.properties['pathNumber']\n",
    "    # print(fr, rel)\n",
    "    if fr != frame or rel != rel_orb:\n",
    "        print(i.properties['fileID'], i.properties['frameNumber'], \n",
    "              i.properties['pathNumber'])\n",
    "        frames_out.append(i)\n",
    "\n",
    "for i in frames_out:\n",
    "    stack.remove(i)\n"
   ]
  },
  {
   "cell_type": "code",
   "execution_count": 4,
   "id": "3b103957-31b1-48f9-a7d2-f32fb20a0927",
   "metadata": {},
   "outputs": [],
   "source": [
    "#%% Convert the stack to list to prepare it for saving as pickle file\n",
    "import pickle\n",
    "stack_lst = [stack]\n",
    "\n",
    "#Create the data folder if it does not exist\n",
    "if not exists('./data'):\n",
    "    mkdir('./data')\n",
    "\n",
    "#Save the stack as a pickle file\n",
    "with open('./data/stack.pkl', 'wb') as f:\n",
    "    pickle.dump(stack_lst, f)"
   ]
  }
 ],
 "metadata": {
  "kernelspec": {
   "display_name": "Python",
   "language": "python",
   "name": "python3"
  },
  "language_info": {
   "codemirror_mode": {
    "name": "ipython",
    "version": 3
   },
   "file_extension": ".py",
   "mimetype": "text/x-python",
   "name": "python",
   "nbconvert_exporter": "python",
   "pygments_lexer": "ipython3",
   "version": "3.8.10"
  }
 },
 "nbformat": 4,
 "nbformat_minor": 5
}
